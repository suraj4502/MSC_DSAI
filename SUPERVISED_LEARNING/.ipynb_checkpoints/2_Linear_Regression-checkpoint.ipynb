{
 "cells": [
  {
   "cell_type": "markdown",
   "id": "f9759b25-4031-4f95-810a-a9ce24032f67",
   "metadata": {},
   "source": [
    " ## 2.1 Simple Linear Regression "
   ]
  },
  {
   "cell_type": "code",
   "execution_count": 1,
   "id": "cdf1023b-5a5e-46fc-930c-743539d36441",
   "metadata": {},
   "outputs": [],
   "source": [
    "import pandas as pd \n",
    "import matplotlib.pyplot as plt\n",
    "import seaborn as sns \n",
    "from sklearn.preprocessing import StandardScaler,MinMaxScaler\n",
    "import numpy as np "
   ]
  },
  {
   "cell_type": "code",
   "execution_count": 2,
   "id": "331f0745-5a7b-468c-9fda-6f81045ed449",
   "metadata": {},
   "outputs": [
    {
     "data": {
      "text/html": [
       "<div>\n",
       "<style scoped>\n",
       "    .dataframe tbody tr th:only-of-type {\n",
       "        vertical-align: middle;\n",
       "    }\n",
       "\n",
       "    .dataframe tbody tr th {\n",
       "        vertical-align: top;\n",
       "    }\n",
       "\n",
       "    .dataframe thead th {\n",
       "        text-align: right;\n",
       "    }\n",
       "</style>\n",
       "<table border=\"1\" class=\"dataframe\">\n",
       "  <thead>\n",
       "    <tr style=\"text-align: right;\">\n",
       "      <th></th>\n",
       "      <th>Temperature</th>\n",
       "      <th>Revenue</th>\n",
       "    </tr>\n",
       "  </thead>\n",
       "  <tbody>\n",
       "    <tr>\n",
       "      <th>19</th>\n",
       "      <td>21.775948</td>\n",
       "      <td>534.622865</td>\n",
       "    </tr>\n",
       "    <tr>\n",
       "      <th>112</th>\n",
       "      <td>24.243113</td>\n",
       "      <td>565.875000</td>\n",
       "    </tr>\n",
       "    <tr>\n",
       "      <th>138</th>\n",
       "      <td>19.779369</td>\n",
       "      <td>507.356810</td>\n",
       "    </tr>\n",
       "    <tr>\n",
       "      <th>0</th>\n",
       "      <td>24.566884</td>\n",
       "      <td>534.799028</td>\n",
       "    </tr>\n",
       "    <tr>\n",
       "      <th>24</th>\n",
       "      <td>23.881725</td>\n",
       "      <td>523.124547</td>\n",
       "    </tr>\n",
       "  </tbody>\n",
       "</table>\n",
       "</div>"
      ],
      "text/plain": [
       "     Temperature     Revenue\n",
       "19     21.775948  534.622865\n",
       "112    24.243113  565.875000\n",
       "138    19.779369  507.356810\n",
       "0      24.566884  534.799028\n",
       "24     23.881725  523.124547"
      ]
     },
     "execution_count": 2,
     "metadata": {},
     "output_type": "execute_result"
    }
   ],
   "source": [
    "df = pd.read_csv('DATA/IceCreamData.csv')\n",
    "df.sample(5)"
   ]
  },
  {
   "attachments": {
    "1fd890a2-5ca4-4939-a0c4-39d49867f907.png": {
     "image/png": "[encoded data removed]"
    },
    "203e7bd1-8196-47e1-815c-b8a38f9563d5.png": {
     "image/png": "[encoded data removed]"
    }
   },
   "cell_type": "markdown",
   "id": "89956ca9-cec2-446c-8e61-9add6b0bfd94",
   "metadata": {},
   "source": [
    "## The general equation for a linear regression line is:\n",
    "\n",
    "**𝑦 =𝛽0+𝛽1𝑥** or **y = mx + b**\n",
    "\n",
    "Where:\n",
    "<br>\n",
    "- y is the dependent variable (Revenue in your case).\n",
    "<br>\n",
    "- x is the independent variable (Temperature in your case).\n",
    "<br>\n",
    "- β0 (b) ​is the intercept of the line.\n",
    "<br>\n",
    "- β1 (m) is the slope of the line.\n",
    "\n",
    "#### steps to calculate slope (β1, m):\n",
    "![image.png](attachment:203e7bd1-8196-47e1-815c-b8a38f9563d5.png)\n",
    "\n",
    "### steps to calculate intercept(β0, b):\n",
    "![image.png](attachment:1fd890a2-5ca4-4939-a0c4-39d49867f907.png)\n",
    "\n"
   ]
  },
  {
   "cell_type": "code",
   "execution_count": 3,
   "id": "909264a8-1f73-4a1f-bc71-53cd7a235666",
   "metadata": {},
   "outputs": [
    {
     "name": "stdout",
     "output_type": "stream",
     "text": [
      "SLOPE (m):: 21.443625510680278\n",
      "Intercept (b):: 44.83126709056319\n"
     ]
    },
    {
     "data": {
      "text/html": [
       "<div>\n",
       "<style scoped>\n",
       "    .dataframe tbody tr th:only-of-type {\n",
       "        vertical-align: middle;\n",
       "    }\n",
       "\n",
       "    .dataframe tbody tr th {\n",
       "        vertical-align: top;\n",
       "    }\n",
       "\n",
       "    .dataframe thead th {\n",
       "        text-align: right;\n",
       "    }\n",
       "</style>\n",
       "<table border=\"1\" class=\"dataframe\">\n",
       "  <thead>\n",
       "    <tr style=\"text-align: right;\">\n",
       "      <th></th>\n",
       "      <th>Temperature</th>\n",
       "      <th>Revenue</th>\n",
       "      <th>a</th>\n",
       "      <th>b</th>\n",
       "      <th>aXb</th>\n",
       "      <th>y_pred</th>\n",
       "    </tr>\n",
       "  </thead>\n",
       "  <tbody>\n",
       "    <tr>\n",
       "      <th>0</th>\n",
       "      <td>24.566884</td>\n",
       "      <td>534.799028</td>\n",
       "      <td>2.334659</td>\n",
       "      <td>13.228252</td>\n",
       "      <td>30.883461</td>\n",
       "      <td>571.634337</td>\n",
       "    </tr>\n",
       "    <tr>\n",
       "      <th>1</th>\n",
       "      <td>26.005191</td>\n",
       "      <td>625.190122</td>\n",
       "      <td>3.772966</td>\n",
       "      <td>103.619345</td>\n",
       "      <td>390.952269</td>\n",
       "      <td>602.476847</td>\n",
       "    </tr>\n",
       "    <tr>\n",
       "      <th>2</th>\n",
       "      <td>27.790554</td>\n",
       "      <td>660.632289</td>\n",
       "      <td>5.558329</td>\n",
       "      <td>139.061512</td>\n",
       "      <td>772.949603</td>\n",
       "      <td>640.761497</td>\n",
       "    </tr>\n",
       "    <tr>\n",
       "      <th>3</th>\n",
       "      <td>20.595335</td>\n",
       "      <td>487.706960</td>\n",
       "      <td>-1.636890</td>\n",
       "      <td>-33.863816</td>\n",
       "      <td>55.431345</td>\n",
       "      <td>486.469919</td>\n",
       "    </tr>\n",
       "    <tr>\n",
       "      <th>4</th>\n",
       "      <td>11.503498</td>\n",
       "      <td>316.240194</td>\n",
       "      <td>-10.728727</td>\n",
       "      <td>-205.330582</td>\n",
       "      <td>2202.935859</td>\n",
       "      <td>291.507963</td>\n",
       "    </tr>\n",
       "    <tr>\n",
       "      <th>...</th>\n",
       "      <td>...</td>\n",
       "      <td>...</td>\n",
       "      <td>...</td>\n",
       "      <td>...</td>\n",
       "      <td>...</td>\n",
       "      <td>...</td>\n",
       "    </tr>\n",
       "    <tr>\n",
       "      <th>495</th>\n",
       "      <td>22.274899</td>\n",
       "      <td>524.746364</td>\n",
       "      <td>0.042674</td>\n",
       "      <td>3.175588</td>\n",
       "      <td>0.135515</td>\n",
       "      <td>522.485865</td>\n",
       "    </tr>\n",
       "    <tr>\n",
       "      <th>496</th>\n",
       "      <td>32.893092</td>\n",
       "      <td>755.818399</td>\n",
       "      <td>10.660867</td>\n",
       "      <td>234.247622</td>\n",
       "      <td>2497.282743</td>\n",
       "      <td>750.178416</td>\n",
       "    </tr>\n",
       "    <tr>\n",
       "      <th>497</th>\n",
       "      <td>12.588157</td>\n",
       "      <td>306.090719</td>\n",
       "      <td>-9.644068</td>\n",
       "      <td>-215.480058</td>\n",
       "      <td>2078.104365</td>\n",
       "      <td>314.766991</td>\n",
       "    </tr>\n",
       "    <tr>\n",
       "      <th>498</th>\n",
       "      <td>22.362402</td>\n",
       "      <td>566.217304</td>\n",
       "      <td>0.130177</td>\n",
       "      <td>44.646527</td>\n",
       "      <td>5.811962</td>\n",
       "      <td>524.362249</td>\n",
       "    </tr>\n",
       "    <tr>\n",
       "      <th>499</th>\n",
       "      <td>28.957736</td>\n",
       "      <td>655.660388</td>\n",
       "      <td>6.725511</td>\n",
       "      <td>134.089611</td>\n",
       "      <td>901.821183</td>\n",
       "      <td>665.790120</td>\n",
       "    </tr>\n",
       "  </tbody>\n",
       "</table>\n",
       "<p>500 rows × 6 columns</p>\n",
       "</div>"
      ],
      "text/plain": [
       "     Temperature     Revenue          a           b          aXb      y_pred\n",
       "0      24.566884  534.799028   2.334659   13.228252    30.883461  571.634337\n",
       "1      26.005191  625.190122   3.772966  103.619345   390.952269  602.476847\n",
       "2      27.790554  660.632289   5.558329  139.061512   772.949603  640.761497\n",
       "3      20.595335  487.706960  -1.636890  -33.863816    55.431345  486.469919\n",
       "4      11.503498  316.240194 -10.728727 -205.330582  2202.935859  291.507963\n",
       "..           ...         ...        ...         ...          ...         ...\n",
       "495    22.274899  524.746364   0.042674    3.175588     0.135515  522.485865\n",
       "496    32.893092  755.818399  10.660867  234.247622  2497.282743  750.178416\n",
       "497    12.588157  306.090719  -9.644068 -215.480058  2078.104365  314.766991\n",
       "498    22.362402  566.217304   0.130177   44.646527     5.811962  524.362249\n",
       "499    28.957736  655.660388   6.725511  134.089611   901.821183  665.790120\n",
       "\n",
       "[500 rows x 6 columns]"
      ]
     },
     "execution_count": 3,
     "metadata": {},
     "output_type": "execute_result"
    }
   ],
   "source": [
    "# calculating\n",
    "x_bar = df['Temperature'].mean()\n",
    "y_bar = df['Revenue'].mean()\n",
    "df['a'] = df['Temperature'] - x_bar\n",
    "df['b'] = df['Revenue'] - y_bar\n",
    "\n",
    "df['aXb'] = df['a'] * df['b']\n",
    "\n",
    "m = sum(df['aXb'])/sum(np.square(df['a']))\n",
    "print(\"SLOPE (m)::\", m)\n",
    "\n",
    "b = y_bar - (m * x_bar)\n",
    "print(\"Intercept (b)::\", b)\n",
    "\n",
    "df['y_pred'] = m*df['Temperature'] + b\n",
    "\n",
    "df"
   ]
  },
  {
   "cell_type": "code",
   "execution_count": 8,
   "id": "b274e924-0d89-46fd-a1b4-59d581119880",
   "metadata": {},
   "outputs": [
    {
     "ename": "KeyError",
     "evalue": "'y_pred'",
     "output_type": "error",
     "traceback": [
      "\u001b[1;31m---------------------------------------------------------------------------\u001b[0m",
      "\u001b[1;31mKeyError\u001b[0m                                  Traceback (most recent call last)",
      "File \u001b[1;32m~\\anaconda3\\Lib\\site-packages\\pandas\\core\\indexes\\base.py:3653\u001b[0m, in \u001b[0;36mIndex.get_loc\u001b[1;34m(self, key)\u001b[0m\n\u001b[0;32m   3652\u001b[0m \u001b[38;5;28;01mtry\u001b[39;00m:\n\u001b[1;32m-> 3653\u001b[0m     \u001b[38;5;28;01mreturn\u001b[39;00m \u001b[38;5;28mself\u001b[39m\u001b[38;5;241m.\u001b[39m_engine\u001b[38;5;241m.\u001b[39mget_loc(casted_key)\n\u001b[0;32m   3654\u001b[0m \u001b[38;5;28;01mexcept\u001b[39;00m \u001b[38;5;167;01mKeyError\u001b[39;00m \u001b[38;5;28;01mas\u001b[39;00m err:\n",
      "File \u001b[1;32m~\\anaconda3\\Lib\\site-packages\\pandas\\_libs\\index.pyx:147\u001b[0m, in \u001b[0;36mpandas._libs.index.IndexEngine.get_loc\u001b[1;34m()\u001b[0m\n",
      "File \u001b[1;32m~\\anaconda3\\Lib\\site-packages\\pandas\\_libs\\index.pyx:176\u001b[0m, in \u001b[0;36mpandas._libs.index.IndexEngine.get_loc\u001b[1;34m()\u001b[0m\n",
      "File \u001b[1;32mpandas\\_libs\\hashtable_class_helper.pxi:7080\u001b[0m, in \u001b[0;36mpandas._libs.hashtable.PyObjectHashTable.get_item\u001b[1;34m()\u001b[0m\n",
      "File \u001b[1;32mpandas\\_libs\\hashtable_class_helper.pxi:7088\u001b[0m, in \u001b[0;36mpandas._libs.hashtable.PyObjectHashTable.get_item\u001b[1;34m()\u001b[0m\n",
      "\u001b[1;31mKeyError\u001b[0m: 'y_pred'",
      "\nThe above exception was the direct cause of the following exception:\n",
      "\u001b[1;31mKeyError\u001b[0m                                  Traceback (most recent call last)",
      "Cell \u001b[1;32mIn[8], line 1\u001b[0m\n\u001b[1;32m----> 1\u001b[0m mse \u001b[38;5;241m=\u001b[39m mean_squared_error(df[\u001b[38;5;124m'\u001b[39m\u001b[38;5;124mRevenue\u001b[39m\u001b[38;5;124m'\u001b[39m], df[\u001b[38;5;124m'\u001b[39m\u001b[38;5;124my_pred\u001b[39m\u001b[38;5;124m'\u001b[39m])\n\u001b[0;32m      2\u001b[0m \u001b[38;5;28mprint\u001b[39m(\u001b[38;5;124m\"\u001b[39m\u001b[38;5;124mMSE::\u001b[39m\u001b[38;5;124m\"\u001b[39m, mse)\n\u001b[0;32m      3\u001b[0m \u001b[38;5;28mprint\u001b[39m(\u001b[38;5;124m\"\u001b[39m\u001b[38;5;124mRMSE::\u001b[39m\u001b[38;5;124m\"\u001b[39m, mse\u001b[38;5;241m*\u001b[39m\u001b[38;5;241m*\u001b[39m\u001b[38;5;241m0.5\u001b[39m)\n",
      "File \u001b[1;32m~\\anaconda3\\Lib\\site-packages\\pandas\\core\\frame.py:3761\u001b[0m, in \u001b[0;36mDataFrame.__getitem__\u001b[1;34m(self, key)\u001b[0m\n\u001b[0;32m   3759\u001b[0m \u001b[38;5;28;01mif\u001b[39;00m \u001b[38;5;28mself\u001b[39m\u001b[38;5;241m.\u001b[39mcolumns\u001b[38;5;241m.\u001b[39mnlevels \u001b[38;5;241m>\u001b[39m \u001b[38;5;241m1\u001b[39m:\n\u001b[0;32m   3760\u001b[0m     \u001b[38;5;28;01mreturn\u001b[39;00m \u001b[38;5;28mself\u001b[39m\u001b[38;5;241m.\u001b[39m_getitem_multilevel(key)\n\u001b[1;32m-> 3761\u001b[0m indexer \u001b[38;5;241m=\u001b[39m \u001b[38;5;28mself\u001b[39m\u001b[38;5;241m.\u001b[39mcolumns\u001b[38;5;241m.\u001b[39mget_loc(key)\n\u001b[0;32m   3762\u001b[0m \u001b[38;5;28;01mif\u001b[39;00m is_integer(indexer):\n\u001b[0;32m   3763\u001b[0m     indexer \u001b[38;5;241m=\u001b[39m [indexer]\n",
      "File \u001b[1;32m~\\anaconda3\\Lib\\site-packages\\pandas\\core\\indexes\\base.py:3655\u001b[0m, in \u001b[0;36mIndex.get_loc\u001b[1;34m(self, key)\u001b[0m\n\u001b[0;32m   3653\u001b[0m     \u001b[38;5;28;01mreturn\u001b[39;00m \u001b[38;5;28mself\u001b[39m\u001b[38;5;241m.\u001b[39m_engine\u001b[38;5;241m.\u001b[39mget_loc(casted_key)\n\u001b[0;32m   3654\u001b[0m \u001b[38;5;28;01mexcept\u001b[39;00m \u001b[38;5;167;01mKeyError\u001b[39;00m \u001b[38;5;28;01mas\u001b[39;00m err:\n\u001b[1;32m-> 3655\u001b[0m     \u001b[38;5;28;01mraise\u001b[39;00m \u001b[38;5;167;01mKeyError\u001b[39;00m(key) \u001b[38;5;28;01mfrom\u001b[39;00m \u001b[38;5;21;01merr\u001b[39;00m\n\u001b[0;32m   3656\u001b[0m \u001b[38;5;28;01mexcept\u001b[39;00m \u001b[38;5;167;01mTypeError\u001b[39;00m:\n\u001b[0;32m   3657\u001b[0m     \u001b[38;5;66;03m# If we have a listlike key, _check_indexing_error will raise\u001b[39;00m\n\u001b[0;32m   3658\u001b[0m     \u001b[38;5;66;03m#  InvalidIndexError. Otherwise we fall through and re-raise\u001b[39;00m\n\u001b[0;32m   3659\u001b[0m     \u001b[38;5;66;03m#  the TypeError.\u001b[39;00m\n\u001b[0;32m   3660\u001b[0m     \u001b[38;5;28mself\u001b[39m\u001b[38;5;241m.\u001b[39m_check_indexing_error(key)\n",
      "\u001b[1;31mKeyError\u001b[0m: 'y_pred'"
     ]
    }
   ],
   "source": [
    "mse = mean_squared_error(df['Revenue'], df['y_pred'])\n",
    "print(\"MSE::\", mse)\n",
    "print(\"RMSE::\", mse**0.5)"
   ]
  },
  {
   "cell_type": "markdown",
   "id": "fa9a736e-259f-4ed7-ba49-5a2d250eb834",
   "metadata": {},
   "source": [
    "## USING SKLEARN"
   ]
  },
  {
   "cell_type": "code",
   "execution_count": 7,
   "id": "57046dc1-3ce8-40c6-a149-6e00523508c5",
   "metadata": {},
   "outputs": [
    {
     "name": "stdout",
     "output_type": "stream",
     "text": [
      "MODEL:: LinearRegression()\n",
      "MSE:: 592.8023375060735\n",
      "RMSE:: 24.347532472636185\n"
     ]
    },
    {
     "data": {
      "image/png": "[encoded data removed]",
      "text/plain": [
       "<Figure size 640x480 with 1 Axes>"
      ]
     },
     "metadata": {},
     "output_type": "display_data"
    }
   ],
   "source": [
    "from sklearn.linear_model import LinearRegression\n",
    "from sklearn.model_selection import train_test_split\n",
    "from sklearn.metrics import mean_absolute_error,mean_squared_error,accuracy_score\n",
    "\n",
    "df = pd.read_csv('DATA/IceCreamData.csv')\n",
    "\n",
    "x_train, x_test, y_train, y_test = train_test_split(df['Temperature'], df['Revenue'], test_size = 0.3, random_state=42)\n",
    "x_train, x_test, y_train, y_test = x_train.values.reshape(-1, 1), x_test.values.reshape(-1, 1), y_train.values.reshape(-1, 1), y_test.values.reshape(-1, 1)\n",
    "\n",
    "model = LinearRegression()\n",
    "model.fit(x_train, y_train)\n",
    "print(\"MODEL::\", model)\n",
    "\n",
    "y_pred = model.predict(x_test)\n",
    "\n",
    "mse = mean_squared_error(y_test, y_pred)\n",
    "print(\"MSE::\", mse)\n",
    "print(\"RMSE::\", mse**0.5 )\n",
    "\n",
    "plt.scatter(df['Temperature'],df['Revenue'],color='blue',label='Actual data ')\n",
    "plt.plot(x_test,y_pred,color='red',linewidth=2)\n",
    "plt.xlabel('Temperature')\n",
    "plt.ylabel('Revenue')\n",
    "plt.title('Linear Regression')\n",
    "plt.legend()\n",
    "plt.show()"
   ]
  },
  {
   "cell_type": "markdown",
   "id": "9ae8200c-c417-4a3e-aea1-50d0e9f1c0a7",
   "metadata": {},
   "source": [
    "## GRADIENT DESCENT"
   ]
  },
  {
   "cell_type": "markdown",
   "id": "444672a1-9c3a-4491-97e2-c615a6e3fc8c",
   "metadata": {},
   "source": [
    "- A gradient is a vector (a set of values) that points in the direction of the steepest increase of a function. In optimization (like minimizing the loss in linear regression), we are interested in moving in the direction of the steepest decrease, which is why we move in the opposite direction of the gradient.\n",
    "- Think of a gradient like a slope on a hill:\n",
    "\n",
    "    - If you're standing on a hill and want to get to the bottom (minimize your position), the gradient tells you the direction of the steepest uphill slope.\n",
    "    - To go downhill, you move in the opposite direction of the gradient, which is the steepest path to minimize your elevation (the same concept is applied in gradient descent to minimize the loss).\n",
    "\n",
    " <br>\n",
    " \n",
    "- `dldb`: The gradient of the loss function with respect to b. It tells us how sensitive the loss is to changes in the intercept.\n",
    "- `dldm`: The gradient of the loss function with respect to m. It tells us how sensitive the loss is to changes in the slope."
   ]
  },
  {
   "cell_type": "code",
   "execution_count": 13,
   "id": "02d76da4-2d31-4f90-aeab-9cc8ecbbc648",
   "metadata": {},
   "outputs": [
    {
     "name": "stdout",
     "output_type": "stream",
     "text": [
      "Early stopping at iteration 22052.\n",
      "Best Values: m=21.455019772116028, b= 44.54447844346613 with loss = 19.585007052681032.\n"
     ]
    },
    {
     "data": {
      "text/html": [
       "<div>\n",
       "<style scoped>\n",
       "    .dataframe tbody tr th:only-of-type {\n",
       "        vertical-align: middle;\n",
       "    }\n",
       "\n",
       "    .dataframe tbody tr th {\n",
       "        vertical-align: top;\n",
       "    }\n",
       "\n",
       "    .dataframe thead th {\n",
       "        text-align: right;\n",
       "    }\n",
       "</style>\n",
       "<table border=\"1\" class=\"dataframe\">\n",
       "  <thead>\n",
       "    <tr style=\"text-align: right;\">\n",
       "      <th></th>\n",
       "      <th>Iteration</th>\n",
       "      <th>m</th>\n",
       "      <th>b</th>\n",
       "      <th>Loss</th>\n",
       "    </tr>\n",
       "  </thead>\n",
       "  <tbody>\n",
       "    <tr>\n",
       "      <th>0</th>\n",
       "      <td>0</td>\n",
       "      <td>25.997058</td>\n",
       "      <td>1.043142</td>\n",
       "      <td>62.015447</td>\n",
       "    </tr>\n",
       "    <tr>\n",
       "      <th>1</th>\n",
       "      <td>1</td>\n",
       "      <td>22.847031</td>\n",
       "      <td>0.928252</td>\n",
       "      <td>23.944254</td>\n",
       "    </tr>\n",
       "    <tr>\n",
       "      <th>2</th>\n",
       "      <td>2</td>\n",
       "      <td>23.228204</td>\n",
       "      <td>0.953656</td>\n",
       "      <td>22.958727</td>\n",
       "    </tr>\n",
       "    <tr>\n",
       "      <th>3</th>\n",
       "      <td>3</td>\n",
       "      <td>23.181568</td>\n",
       "      <td>0.962061</td>\n",
       "      <td>22.928419</td>\n",
       "    </tr>\n",
       "    <tr>\n",
       "      <th>4</th>\n",
       "      <td>4</td>\n",
       "      <td>23.186762</td>\n",
       "      <td>0.972523</td>\n",
       "      <td>22.928026</td>\n",
       "    </tr>\n",
       "    <tr>\n",
       "      <th>...</th>\n",
       "      <td>...</td>\n",
       "      <td>...</td>\n",
       "      <td>...</td>\n",
       "      <td>...</td>\n",
       "    </tr>\n",
       "    <tr>\n",
       "      <th>22048</th>\n",
       "      <td>22048</td>\n",
       "      <td>21.453774</td>\n",
       "      <td>44.575833</td>\n",
       "      <td>19.585099</td>\n",
       "    </tr>\n",
       "    <tr>\n",
       "      <th>22049</th>\n",
       "      <td>22049</td>\n",
       "      <td>21.453772</td>\n",
       "      <td>44.575893</td>\n",
       "      <td>19.585099</td>\n",
       "    </tr>\n",
       "    <tr>\n",
       "      <th>22050</th>\n",
       "      <td>22050</td>\n",
       "      <td>21.453769</td>\n",
       "      <td>44.575952</td>\n",
       "      <td>19.585099</td>\n",
       "    </tr>\n",
       "    <tr>\n",
       "      <th>22051</th>\n",
       "      <td>22051</td>\n",
       "      <td>21.453767</td>\n",
       "      <td>44.576012</td>\n",
       "      <td>19.585099</td>\n",
       "    </tr>\n",
       "    <tr>\n",
       "      <th>22052</th>\n",
       "      <td>22052</td>\n",
       "      <td>21.453765</td>\n",
       "      <td>44.576072</td>\n",
       "      <td>19.585099</td>\n",
       "    </tr>\n",
       "  </tbody>\n",
       "</table>\n",
       "<p>22053 rows × 4 columns</p>\n",
       "</div>"
      ],
      "text/plain": [
       "       Iteration          m          b       Loss\n",
       "0              0  25.997058   1.043142  62.015447\n",
       "1              1  22.847031   0.928252  23.944254\n",
       "2              2  23.228204   0.953656  22.958727\n",
       "3              3  23.181568   0.962061  22.928419\n",
       "4              4  23.186762   0.972523  22.928026\n",
       "...          ...        ...        ...        ...\n",
       "22048      22048  21.453774  44.575833  19.585099\n",
       "22049      22049  21.453772  44.575893  19.585099\n",
       "22050      22050  21.453769  44.575952  19.585099\n",
       "22051      22051  21.453767  44.576012  19.585099\n",
       "22052      22052  21.453765  44.576072  19.585099\n",
       "\n",
       "[22053 rows x 4 columns]"
      ]
     },
     "execution_count": 13,
     "metadata": {},
     "output_type": "execute_result"
    }
   ],
   "source": [
    "def GD(x, y, m, b, LR):\n",
    "    dldb = -2 / len(x) * (y- (m * x+b)).sum()\n",
    "    dldm = -2 / len(x) * ((y- (m * x+b))*x).sum()\n",
    "    b = b - LR * dldb\n",
    "    m = m -LR * dldm\n",
    "    return m, b\n",
    "\n",
    "x= df['Temperature']\n",
    "y = df['Revenue']\n",
    "m = 0\n",
    "b = 0\n",
    "LR = 0.001\n",
    "GrdDsc = []\n",
    "best_loss = float('inf')\n",
    "best_m = m\n",
    "best_b = b\n",
    "no_improve_counter = 0\n",
    "patience = 500\n",
    "\n",
    "for i in range(1000000):\n",
    "    m,b = GD(x, y, m, b, LR)\n",
    "    yhat = m*x +b\n",
    "    loss = mean_absolute_error(y, yhat)\n",
    "    GrdDsc.append({'Iteration':i, 'm':m, 'b':b, 'Loss': loss})\n",
    "\n",
    "    if loss < best_loss:\n",
    "        best_loss = loss\n",
    "        best_m = m\n",
    "        best_b = b\n",
    "        no_improve_counter = 0\n",
    "    else:\n",
    "        no_improve_counter += 1\n",
    "\n",
    "    if no_improve_counter >= patience:\n",
    "        print(f\"Early stopping at iteration {i}.\")\n",
    "        break\n",
    "\n",
    "print(f\"Best Values: m={best_m}, b= {best_b} with loss = {best_loss}.\")\n",
    "GrdDsc_df = pd.DataFrame(GrdDsc)\n",
    "GrdDsc_df"
   ]
  },
  {
   "cell_type": "markdown",
   "id": "a56654e9-e4cf-4e95-9ad0-55e6bb69c067",
   "metadata": {},
   "source": [
    "---\n",
    "## 2.2 Multiple Linear Regression."
   ]
  },
  {
   "cell_type": "code",
   "execution_count": 14,
   "id": "697c041f-0eb4-44e3-8699-216b7824b466",
   "metadata": {},
   "outputs": [
    {
     "data": {
      "text/html": [
       "<div>\n",
       "<style scoped>\n",
       "    .dataframe tbody tr th:only-of-type {\n",
       "        vertical-align: middle;\n",
       "    }\n",
       "\n",
       "    .dataframe tbody tr th {\n",
       "        vertical-align: top;\n",
       "    }\n",
       "\n",
       "    .dataframe thead th {\n",
       "        text-align: right;\n",
       "    }\n",
       "</style>\n",
       "<table border=\"1\" class=\"dataframe\">\n",
       "  <thead>\n",
       "    <tr style=\"text-align: right;\">\n",
       "      <th></th>\n",
       "      <th>Serial No.</th>\n",
       "      <th>GRE Score</th>\n",
       "      <th>TOEFL Score</th>\n",
       "      <th>University Rating</th>\n",
       "      <th>SOP</th>\n",
       "      <th>LOR</th>\n",
       "      <th>CGPA</th>\n",
       "      <th>Research</th>\n",
       "      <th>Chance of Admit</th>\n",
       "    </tr>\n",
       "  </thead>\n",
       "  <tbody>\n",
       "    <tr>\n",
       "      <th>373</th>\n",
       "      <td>374</td>\n",
       "      <td>321</td>\n",
       "      <td>109</td>\n",
       "      <td>3</td>\n",
       "      <td>3.0</td>\n",
       "      <td>3.0</td>\n",
       "      <td>8.54</td>\n",
       "      <td>1</td>\n",
       "      <td>0.79</td>\n",
       "    </tr>\n",
       "    <tr>\n",
       "      <th>161</th>\n",
       "      <td>162</td>\n",
       "      <td>298</td>\n",
       "      <td>99</td>\n",
       "      <td>1</td>\n",
       "      <td>1.5</td>\n",
       "      <td>3.0</td>\n",
       "      <td>7.46</td>\n",
       "      <td>0</td>\n",
       "      <td>0.53</td>\n",
       "    </tr>\n",
       "    <tr>\n",
       "      <th>163</th>\n",
       "      <td>164</td>\n",
       "      <td>317</td>\n",
       "      <td>105</td>\n",
       "      <td>3</td>\n",
       "      <td>3.5</td>\n",
       "      <td>3.0</td>\n",
       "      <td>8.56</td>\n",
       "      <td>0</td>\n",
       "      <td>0.68</td>\n",
       "    </tr>\n",
       "    <tr>\n",
       "      <th>422</th>\n",
       "      <td>423</td>\n",
       "      <td>322</td>\n",
       "      <td>112</td>\n",
       "      <td>4</td>\n",
       "      <td>3.5</td>\n",
       "      <td>2.5</td>\n",
       "      <td>9.02</td>\n",
       "      <td>1</td>\n",
       "      <td>0.73</td>\n",
       "    </tr>\n",
       "    <tr>\n",
       "      <th>370</th>\n",
       "      <td>371</td>\n",
       "      <td>310</td>\n",
       "      <td>103</td>\n",
       "      <td>2</td>\n",
       "      <td>2.5</td>\n",
       "      <td>2.5</td>\n",
       "      <td>8.24</td>\n",
       "      <td>0</td>\n",
       "      <td>0.72</td>\n",
       "    </tr>\n",
       "  </tbody>\n",
       "</table>\n",
       "</div>"
      ],
      "text/plain": [
       "     Serial No.  GRE Score  TOEFL Score  University Rating  SOP  LOR  CGPA  \\\n",
       "373         374        321          109                  3  3.0  3.0  8.54   \n",
       "161         162        298           99                  1  1.5  3.0  7.46   \n",
       "163         164        317          105                  3  3.5  3.0  8.56   \n",
       "422         423        322          112                  4  3.5  2.5  9.02   \n",
       "370         371        310          103                  2  2.5  2.5  8.24   \n",
       "\n",
       "     Research  Chance of Admit  \n",
       "373         1             0.79  \n",
       "161         0             0.53  \n",
       "163         0             0.68  \n",
       "422         1             0.73  \n",
       "370         0             0.72  "
      ]
     },
     "execution_count": 14,
     "metadata": {},
     "output_type": "execute_result"
    }
   ],
   "source": [
    "import pandas as pd \n",
    "import numpy as np\n",
    "from sklearn.model_selection import train_test_split\n",
    "from sklearn.linear_model import LinearRegression\n",
    "from sklearn.metrics import mean_absolute_error,mean_squared_error,r2_score\n",
    "import sklearn.metrics as metrics\n",
    "\n",
    "df = pd.read_csv('DATA/Admission.csv')\n",
    "df.sample(5)"
   ]
  },
  {
   "cell_type": "code",
   "execution_count": 15,
   "id": "43762e7d-14d1-4053-8d67-addc2573beaa",
   "metadata": {},
   "outputs": [],
   "source": [
    "df.drop(\"Serial No.\", axis = 1, inplace=True)"
   ]
  },
  {
   "cell_type": "code",
   "execution_count": 16,
   "id": "9263a9ef-8548-40cc-8b6b-cd9bc7fe7b5d",
   "metadata": {},
   "outputs": [
    {
     "data": {
      "text/html": [
       "<style>#sk-container-id-1 {color: black;}#sk-container-id-1 pre{padding: 0;}#sk-container-id-1 div.sk-toggleable {background-color: white;}#sk-container-id-1 label.sk-toggleable__label {cursor: pointer;display: block;width: 100%;margin-bottom: 0;padding: 0.3em;box-sizing: border-box;text-align: center;}#sk-container-id-1 label.sk-toggleable__label-arrow:before {content: \"▸\";float: left;margin-right: 0.25em;color: #696969;}#sk-container-id-1 label.sk-toggleable__label-arrow:hover:before {color: black;}#sk-container-id-1 div.sk-estimator:hover label.sk-toggleable__label-arrow:before {color: black;}#sk-container-id-1 div.sk-toggleable__content {max-height: 0;max-width: 0;overflow: hidden;text-align: left;background-color: #f0f8ff;}#sk-container-id-1 div.sk-toggleable__content pre {margin: 0.2em;color: black;border-radius: 0.25em;background-color: #f0f8ff;}#sk-container-id-1 input.sk-toggleable__control:checked~div.sk-toggleable__content {max-height: 200px;max-width: 100%;overflow: auto;}#sk-container-id-1 input.sk-toggleable__control:checked~label.sk-toggleable__label-arrow:before {content: \"▾\";}#sk-container-id-1 div.sk-estimator input.sk-toggleable__control:checked~label.sk-toggleable__label {background-color: #d4ebff;}#sk-container-id-1 div.sk-label input.sk-toggleable__control:checked~label.sk-toggleable__label {background-color: #d4ebff;}#sk-container-id-1 input.sk-hidden--visually {border: 0;clip: rect(1px 1px 1px 1px);clip: rect(1px, 1px, 1px, 1px);height: 1px;margin: -1px;overflow: hidden;padding: 0;position: absolute;width: 1px;}#sk-container-id-1 div.sk-estimator {font-family: monospace;background-color: #f0f8ff;border: 1px dotted black;border-radius: 0.25em;box-sizing: border-box;margin-bottom: 0.5em;}#sk-container-id-1 div.sk-estimator:hover {background-color: #d4ebff;}#sk-container-id-1 div.sk-parallel-item::after {content: \"\";width: 100%;border-bottom: 1px solid gray;flex-grow: 1;}#sk-container-id-1 div.sk-label:hover label.sk-toggleable__label {background-color: #d4ebff;}#sk-container-id-1 div.sk-serial::before {content: \"\";position: absolute;border-left: 1px solid gray;box-sizing: border-box;top: 0;bottom: 0;left: 50%;z-index: 0;}#sk-container-id-1 div.sk-serial {display: flex;flex-direction: column;align-items: center;background-color: white;padding-right: 0.2em;padding-left: 0.2em;position: relative;}#sk-container-id-1 div.sk-item {position: relative;z-index: 1;}#sk-container-id-1 div.sk-parallel {display: flex;align-items: stretch;justify-content: center;background-color: white;position: relative;}#sk-container-id-1 div.sk-item::before, #sk-container-id-1 div.sk-parallel-item::before {content: \"\";position: absolute;border-left: 1px solid gray;box-sizing: border-box;top: 0;bottom: 0;left: 50%;z-index: -1;}#sk-container-id-1 div.sk-parallel-item {display: flex;flex-direction: column;z-index: 1;position: relative;background-color: white;}#sk-container-id-1 div.sk-parallel-item:first-child::after {align-self: flex-end;width: 50%;}#sk-container-id-1 div.sk-parallel-item:last-child::after {align-self: flex-start;width: 50%;}#sk-container-id-1 div.sk-parallel-item:only-child::after {width: 0;}#sk-container-id-1 div.sk-dashed-wrapped {border: 1px dashed gray;margin: 0 0.4em 0.5em 0.4em;box-sizing: border-box;padding-bottom: 0.4em;background-color: white;}#sk-container-id-1 div.sk-label label {font-family: monospace;font-weight: bold;display: inline-block;line-height: 1.2em;}#sk-container-id-1 div.sk-label-container {text-align: center;}#sk-container-id-1 div.sk-container {/* jupyter's `normalize.less` sets `[hidden] { display: none; }` but bootstrap.min.css set `[hidden] { display: none !important; }` so we also need the `!important` here to be able to override the default hidden behavior on the sphinx rendered scikit-learn.org. See: https://github.com/scikit-learn/scikit-learn/issues/21755 */display: inline-block !important;position: relative;}#sk-container-id-1 div.sk-text-repr-fallback {display: none;}</style><div id=\"sk-container-id-1\" class=\"sk-top-container\"><div class=\"sk-text-repr-fallback\"><pre>LinearRegression()</pre><b>In a Jupyter environment, please rerun this cell to show the HTML representation or trust the notebook. <br />On GitHub, the HTML representation is unable to render, please try loading this page with nbviewer.org.</b></div><div class=\"sk-container\" hidden><div class=\"sk-item\"><div class=\"sk-estimator sk-toggleable\"><input class=\"sk-toggleable__control sk-hidden--visually\" id=\"sk-estimator-id-1\" type=\"checkbox\" checked><label for=\"sk-estimator-id-1\" class=\"sk-toggleable__label sk-toggleable__label-arrow\">LinearRegression</label><div class=\"sk-toggleable__content\"><pre>LinearRegression()</pre></div></div></div></div></div>"
      ],
      "text/plain": [
       "LinearRegression()"
      ]
     },
     "execution_count": 16,
     "metadata": {},
     "output_type": "execute_result"
    }
   ],
   "source": [
    "x_train, x_test, y_train, y_test = train_test_split(df.drop('Chance of Admit',axis=1),df['Chance of Admit'],\n",
    "                                                    test_size=0.3,random_state=42)\n",
    "\n",
    "lr=LinearRegression()\n",
    "lr.fit(x_train,y_train)"
   ]
  },
  {
   "cell_type": "code",
   "execution_count": 17,
   "id": "7ab47fe1-b448-45ab-9c25-71681a53c8bd",
   "metadata": {},
   "outputs": [
    {
     "data": {
      "text/plain": [
       "array([0.00223026, 0.00342779, 0.00309507, 0.00151506, 0.01521993,\n",
       "       0.11578339, 0.02074951])"
      ]
     },
     "execution_count": 17,
     "metadata": {},
     "output_type": "execute_result"
    }
   ],
   "source": [
    "#beta values m\n",
    "lr.coef_"
   ]
  },
  {
   "cell_type": "code",
   "execution_count": 18,
   "id": "80d4e21c-1abc-45e7-a2b0-8f297890228d",
   "metadata": {},
   "outputs": [
    {
     "data": {
      "text/plain": [
       "-1.4221480007497251"
      ]
     },
     "execution_count": 18,
     "metadata": {},
     "output_type": "execute_result"
    }
   ],
   "source": [
    "lr.intercept_"
   ]
  },
  {
   "cell_type": "code",
   "execution_count": 20,
   "id": "fd24de52-d7ef-48b8-988a-39c81119cf2b",
   "metadata": {},
   "outputs": [
    {
     "name": "stdout",
     "output_type": "stream",
     "text": [
      "MSE:: 0.003634217801251108\n",
      "MAE:: 0.04267341377223837\n",
      "RMSE:: 0.060284473965118976\n",
      "R2_Score:: 0.8256306039919489\n"
     ]
    }
   ],
   "source": [
    "y_pred = lr.predict(x_test)\n",
    "mse = mean_squared_error(y_test,y_pred)\n",
    "mae = mean_absolute_error(y_test,y_pred)\n",
    "r2 = r2_score(y_test,y_pred)\n",
    "\n",
    "\n",
    "print(\"MSE::\",mse)\n",
    "print(\"MAE::\", mae)\n",
    "print(\"RMSE::\", mse**0.5)\n",
    "print(\"R2_Score::\", r2)"
   ]
  },
  {
   "cell_type": "markdown",
   "id": "ecbd1df0-eed2-4eac-b951-04252e6036b8",
   "metadata": {},
   "source": [
    "---\n",
    "## 2.3 Polynomial Linear Regression"
   ]
  },
  {
   "cell_type": "code",
   "execution_count": 1,
   "id": "0cc89799-496e-4bfc-9c7a-ac9bc1aeaeed",
   "metadata": {},
   "outputs": [],
   "source": [
    "import pandas  as pd\n",
    "import numpy as np\n",
    "import matplotlib.pyplot as plt\n",
    "from sklearn.preprocessing import PolynomialFeatures\n",
    "from sklearn.model_selection import train_test_split\n",
    "from sklearn.linear_model import LinearRegression\n",
    "from sklearn.metrics import mean_absolute_error,mean_squared_error\n",
    "import sklearn.metrics as metrics\n",
    "\n",
    "df = pd.read_csv(\"DATA/PolyData.csv\")"
   ]
  },
  {
   "cell_type": "code",
   "execution_count": 2,
   "id": "0ec82e31-2c58-4b8a-9b4a-ab839d324a71",
   "metadata": {},
   "outputs": [],
   "source": [
    "df.drop('Unnamed: 0', axis=1, inplace=True)"
   ]
  },
  {
   "cell_type": "code",
   "execution_count": 3,
   "id": "7031adc9-01c9-4cd8-b166-d17b8e92cdeb",
   "metadata": {},
   "outputs": [
    {
     "data": {
      "image/png": "[encoded data removed]",
      "text/plain": [
       "<Figure size 640x480 with 1 Axes>"
      ]
     },
     "metadata": {},
     "output_type": "display_data"
    }
   ],
   "source": [
    "plt.scatter(df['x'], df['y']);"
   ]
  },
  {
   "cell_type": "code",
   "execution_count": 6,
   "id": "70a0c8c5-e0e2-41e6-8054-2d6497ba03bf",
   "metadata": {},
   "outputs": [
    {
     "name": "stdout",
     "output_type": "stream",
     "text": [
      "m:: [1.020386]\n"
     ]
    },
    {
     "data": {
      "image/png": "[encoded data removed]",
      "text/plain": [
       "<Figure size 640x480 with 1 Axes>"
      ]
     },
     "metadata": {},
     "output_type": "display_data"
    },
    {
     "name": "stdout",
     "output_type": "stream",
     "text": [
      "5.415346073857585\n",
      "1.969441276400827\n",
      "2.3270896144879307\n",
      "-0.35730655997769656\n"
     ]
    }
   ],
   "source": [
    "x_train,x_test,y_train,y_test = train_test_split(df.drop('y', axis=1), df['y'], test_size=0.2, random_state=42)\n",
    "\n",
    "lr = LinearRegression()\n",
    "lr.fit(x_train, y_train)\n",
    "\n",
    "print(\"m::\",lr.coef_)\n",
    "y_pred=lr.predict(x_test)\n",
    "\n",
    "plt.scatter(df['x'],df['y'],color='blue',label='Actual data')\n",
    "plt.plot(x_test,y_pred, color='red',linewidth=2,label='reggresion liine ')\n",
    "plt.xlabel('x')\n",
    "plt.ylabel('y')\n",
    "plt.title(\"regression line on actual data\")\n",
    "plt.legend()\n",
    "plt.show()\n",
    "\n",
    "y_pred=lr.predict(x_test)\n",
    "mse=mean_squared_error(y_test,y_pred)\n",
    "mae=mean_absolute_error(y_test,y_pred)\n",
    "rmse=np.sqrt(mse)\n",
    "r2=metrics.r2_score(y_test,y_pred)\n",
    "print(mse)\n",
    "print(mae)\n",
    "print(rmse)\n",
    "print(r2)\n"
   ]
  },
  {
   "cell_type": "code",
   "execution_count": 9,
   "id": "085725c0-35f0-4184-9ea6-6c8b8a66ec39",
   "metadata": {},
   "outputs": [
    {
     "data": {
      "image/png": "[encoded data removed]",
      "text/plain": [
       "<Figure size 640x480 with 1 Axes>"
      ]
     },
     "metadata": {},
     "output_type": "display_data"
    }
   ],
   "source": [
    "x=df['x'].values.reshape(-1,1)\n",
    "y=df['y'].values.reshape(-1,1)\n",
    "poly=PolynomialFeatures(degree=3)\n",
    "x_poly=poly.fit_transform(x)\n",
    "x_poly\n",
    "\n",
    "lr2 = LinearRegression()\n",
    "lr2.fit(x_poly, y)\n",
    "\n",
    "x_range=np.linspace(min(x),max(x),len(x))\n",
    "plt.scatter(x,y)\n",
    "plt.plot(x_range,lr2.predict(poly.fit_transform(x_range.reshape(-1,1))),color='red');"
   ]
  }
 ],
 "metadata": {
  "kernelspec": {
   "display_name": "Python 3 (ipykernel)",
   "language": "python",
   "name": "python3"
  },
  "language_info": {
   "codemirror_mode": {
    "name": "ipython",
    "version": 3
   },
   "file_extension": ".py",
   "mimetype": "text/x-python",
   "name": "python",
   "nbconvert_exporter": "python",
   "pygments_lexer": "ipython3",
   "version": "3.11.5"
  }
 },
 "nbformat": 4,
 "nbformat_minor": 5
}
